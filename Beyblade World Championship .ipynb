{
 "cells": [
  {
   "cell_type": "code",
   "execution_count": 1,
   "metadata": {},
   "outputs": [
    {
     "name": "stdout",
     "output_type": "stream",
     "text": [
      "1\n",
      "10\n",
      "3 6 7 5 3 5 6 2 9 1\n",
      "2 7 0 9 3 6 0 6 2 6\n",
      "7\n"
     ]
    }
   ],
   "source": [
    "def main():\n",
    "\n",
    "    noofTestCase = int(input())\n",
    "    for x in range(noofTestCase):\n",
    "        #number of members each team can have, N\n",
    "        NoofMembers = int(input())\n",
    "\n",
    "        #integers representing the power of beyblades of Team G-Revolution members (Team A)\n",
    "        TeamA = list(map(int, input().split()))\n",
    "\n",
    "        # integers representing the power of beyblades of opponent team members (Team B)\n",
    "        TeamB = list(map(int, input().split()))\n",
    "        \n",
    "        TeamA.sort(reverse=True)\n",
    "        TeamB.sort(reverse=True)\n",
    "        \n",
    "        i = 0\n",
    "        j = 0\n",
    "        counter = 0\n",
    "        \n",
    "        while(i < len(TeamA) and j < len(TeamB)):\n",
    "            while(TeamB[j] >= TeamA[i]):\n",
    "                if j == len(TeamB)-1:\n",
    "                    break\n",
    "                j += 1\n",
    "            else:\n",
    "                counter += 1\n",
    "            i += 1\n",
    "            j += 1\n",
    "        print(counter)\n",
    "\n",
    "main()\n"
   ]
  },
  {
   "cell_type": "code",
   "execution_count": null,
   "metadata": {},
   "outputs": [],
   "source": []
  }
 ],
 "metadata": {
  "kernelspec": {
   "display_name": "Python 3",
   "language": "python",
   "name": "python3"
  },
  "language_info": {
   "codemirror_mode": {
    "name": "ipython",
    "version": 3
   },
   "file_extension": ".py",
   "mimetype": "text/x-python",
   "name": "python",
   "nbconvert_exporter": "python",
   "pygments_lexer": "ipython3",
   "version": "3.7.4"
  }
 },
 "nbformat": 4,
 "nbformat_minor": 2
}
