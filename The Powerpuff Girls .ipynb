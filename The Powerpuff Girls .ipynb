{
 "cells": [
  {
   "cell_type": "code",
   "execution_count": 1,
   "metadata": {},
   "outputs": [
    {
     "name": "stdout",
     "output_type": "stream",
     "text": [
      "3\n",
      "3 6 10\n",
      "10 20 30\n",
      "3\n"
     ]
    }
   ],
   "source": [
    "def main():\n",
    "\n",
    "    ingredients=0\n",
    "    \n",
    "    ## input consists of the number of ingredients, N\n",
    "    ingredients=int(input())\n",
    "    \n",
    "    ## input consists of the N space-separated integers representing the quantity of each ingredient required to create a Powerpuff Girl\n",
    "\n",
    "    ingredientRequired=list(map(int, input().split()))\n",
    "\n",
    "    ## Input consists of the N space-separated integers representing the quantity of each ingredient present in the laboratory\n",
    "\n",
    "    ingredientQuantity=list(map(int, input().split()))\n",
    "\n",
    "    quantity = list()\n",
    "\n",
    "    flag = 0\n",
    "    \n",
    "    # Check if for any ingredient ingredientQuantity = 0 and ingredientRequired != 0, \n",
    "    # so that result is 0\n",
    "    \n",
    "    for i in range(ingredients):\n",
    "        if ingredientQuantity[i] == 0 and ingredientRequired[i] != 0:\n",
    "            result = 0\n",
    "            flag = 1\n",
    "    \n",
    "     # Calculate max count of powerpuff girls made per ingredient\n",
    "    if flag == 0:\n",
    "        for i in range(ingredients):\n",
    "            if ingredientRequired[i] == 0:\n",
    "                quantity.append(100000000)\n",
    "            else:\n",
    "                quantity.append(ingredientQuantity[i] // ingredientRequired[i])\n",
    "        result = min(quantity)\n",
    "            \n",
    "  \n",
    "    print(result)\n",
    "\n",
    "main()\n"
   ]
  },
  {
   "cell_type": "code",
   "execution_count": null,
   "metadata": {},
   "outputs": [],
   "source": []
  }
 ],
 "metadata": {
  "kernelspec": {
   "display_name": "Python 3",
   "language": "python",
   "name": "python3"
  },
  "language_info": {
   "codemirror_mode": {
    "name": "ipython",
    "version": 3
   },
   "file_extension": ".py",
   "mimetype": "text/x-python",
   "name": "python",
   "nbconvert_exporter": "python",
   "pygments_lexer": "ipython3",
   "version": "3.7.4"
  }
 },
 "nbformat": 4,
 "nbformat_minor": 2
}
